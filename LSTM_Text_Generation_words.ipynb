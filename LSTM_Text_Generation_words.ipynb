{
  "nbformat": 4,
  "nbformat_minor": 0,
  "metadata": {
    "colab": {
      "name": "LSTM Text Generation - words.ipynb",
      "version": "0.3.2",
      "provenance": [],
      "collapsed_sections": []
    },
    "kernelspec": {
      "name": "python3",
      "display_name": "Python 3"
    },
    "accelerator": "GPU"
  },
  "cells": [
    {
      "metadata": {
        "id": "CminEhkAL-sl",
        "colab_type": "text"
      },
      "cell_type": "markdown",
      "source": [
        "# LSTM Text Generation with Keras"
      ]
    },
    {
      "metadata": {
        "id": "bcHjRzUIZZP_",
        "colab_type": "code",
        "colab": {
          "base_uri": "https://localhost:8080/",
          "height": 35
        },
        "outputId": "c3e03387-01be-4772-c645-4eb09463ae7d"
      },
      "cell_type": "code",
      "source": [
        "# scientific number crunching\n",
        "import numpy as np\n",
        "import pandas as pd\n",
        "from scipy.io import loadmat\n",
        "from keras.utils import to_categorical\n",
        "\n",
        "# machine learning\n",
        "import keras\n",
        "from keras import models\n",
        "from keras.layers import LSTM, Dense, Embedding, Dropout, Input, Flatten\n",
        "from keras import optimizers\n",
        "from keras import metrics\n",
        "\n",
        "# drawing nice pictures\n",
        "import matplotlib.pyplot as plt\n",
        "\n",
        "# stopwatch\n",
        "import time"
      ],
      "execution_count": 2,
      "outputs": [
        {
          "output_type": "stream",
          "text": [
            "Using TensorFlow backend.\n"
          ],
          "name": "stderr"
        }
      ]
    },
    {
      "metadata": {
        "id": "5K6v1bw7Ubvk",
        "colab_type": "text"
      },
      "cell_type": "markdown",
      "source": [
        "## Load Data"
      ]
    },
    {
      "metadata": {
        "id": "ZdiD3iDxM_dD",
        "colab_type": "code",
        "colab": {}
      },
      "cell_type": "code",
      "source": [
        "# Data Params #\n",
        "\n",
        "vocab_size = 2500 # words that are not in the most common 1000 are represented as 'oov'\n",
        "test_split = 0\n",
        "padding_char = -1\n",
        "start_char = -1   # char that marks beginning of sequence \n",
        "oov_char = 0      # char that marks an oov token\n",
        "index_from = 1    # first real word\n",
        "seed = 1991"
      ],
      "execution_count": 0,
      "outputs": []
    },
    {
      "metadata": {
        "id": "y_id9SYmT-hJ",
        "colab_type": "code",
        "outputId": "6e6f35a9-e1ce-4b19-e8dc-275722048c81",
        "colab": {
          "base_uri": "https://localhost:8080/",
          "height": 105
        }
      },
      "cell_type": "code",
      "source": [
        "# Load it\n",
        "from keras.datasets import reuters\n",
        "(train, _), (_, _) = reuters.load_data(path=\"reuters.npz\",\n",
        "                                       num_words=vocab_size)\n",
        "#                                          test_split=test_split,\n",
        "#                                          seed=seed,\n",
        "#                                          start_char=start_char,\n",
        "#                                          oov_char=oov_char,\n",
        "#                                          index_from=index_from)\n",
        "\n",
        "word_index = reuters.get_word_index(path=\"reuters_word_index.json\")\n",
        "v = len(word_index)\n",
        "\n",
        "train.shape[0]"
      ],
      "execution_count": 4,
      "outputs": [
        {
          "output_type": "stream",
          "text": [
            "Downloading data from https://s3.amazonaws.com/text-datasets/reuters.npz\n",
            "2113536/2110848 [==============================] - 0s 0us/step\n",
            "Downloading data from https://s3.amazonaws.com/text-datasets/reuters_word_index.json\n",
            "557056/550378 [==============================] - 0s 0us/step\n"
          ],
          "name": "stdout"
        },
        {
          "output_type": "execute_result",
          "data": {
            "text/plain": [
              "8982"
            ]
          },
          "metadata": {
            "tags": []
          },
          "execution_count": 4
        }
      ]
    },
    {
      "metadata": {
        "id": "cJGzTGocxQz6",
        "colab_type": "code",
        "outputId": "94baa9ec-3eb9-49ef-cd15-a3e15145bffb",
        "colab": {
          "base_uri": "https://localhost:8080/",
          "height": 35
        }
      },
      "cell_type": "code",
      "source": [
        "word_index\n",
        "index_word = {i: w for w, i in word_index.items()}\n",
        "index_word[1], index_word[2], index_word[3], index_word[4], index_word[5]"
      ],
      "execution_count": 5,
      "outputs": [
        {
          "output_type": "execute_result",
          "data": {
            "text/plain": [
              "('the', 'of', 'to', 'in', 'said')"
            ]
          },
          "metadata": {
            "tags": []
          },
          "execution_count": 5
        }
      ]
    },
    {
      "metadata": {
        "id": "mtMaVueIyjkG",
        "colab_type": "code",
        "outputId": "713ad944-09cb-4eb7-cbef-b2899553c15f",
        "colab": {
          "base_uri": "https://localhost:8080/",
          "height": 107
        }
      },
      "cell_type": "code",
      "source": [
        "# First let's look at some training examples.\n",
        "\n",
        "def one_hot_sequence_to_text(oh):\n",
        "  return 'none'\n",
        "\n",
        "def vec_to_text(vec):\n",
        "  words = []\n",
        "  for i in vec:\n",
        "    \n",
        "    if type(i) != int:\n",
        "      i = int(i)\n",
        "      \n",
        "    if i == 0:\n",
        "      words.append('END')\n",
        "    elif i == 2:\n",
        "      words.append('--')\n",
        "    elif i == 1:\n",
        "      words.append('START')\n",
        "    else:\n",
        "      words.append(index_word[i-3])\n",
        "  return ' '.join(words)\n",
        "\n",
        "print(train[0])\n",
        "print(vec_to_text(train[0]))\n",
        "print(vec_to_text(train[1]))\n",
        "print(vec_to_text(train[2]))"
      ],
      "execution_count": 100,
      "outputs": [
        {
          "output_type": "stream",
          "text": [
            "[1, 2, 2, 8, 43, 10, 447, 5, 25, 207, 270, 5, 2, 111, 16, 369, 186, 90, 67, 7, 89, 5, 19, 102, 6, 19, 124, 15, 90, 67, 84, 22, 482, 26, 7, 48, 4, 49, 8, 864, 39, 209, 154, 6, 151, 6, 83, 11, 15, 22, 155, 11, 15, 7, 48, 9, 2, 1005, 504, 6, 258, 6, 272, 11, 15, 22, 134, 44, 11, 15, 16, 8, 197, 1245, 90, 67, 52, 29, 209, 30, 32, 132, 6, 109, 15, 17, 12]\n",
            "START -- -- said as a result of its december acquisition of -- co it expects earnings per share in 1987 of 1 15 to 1 30 dlrs per share up from 70 cts in 1986 the company said pretax net should rise to nine to 10 mln dlrs from six mln dlrs in 1986 and -- operation revenues to 19 to 22 mln dlrs from 12 5 mln dlrs it said cash flow per share this year should be 2 50 to three dlrs reuter 3\n",
            "START -- de -- sa lt -- -- and lt -- overseas corp of chicago have each taken 50 pct -- in -- company sa -- factors -- de -- said in a statement it gave no financial details of the transaction sa -- -- turnover in 1986 was 17 5 billion belgian francs reuter 3\n",
            "START shr 3 28 dlrs vs 22 cts shr diluted 2 99 dlrs vs 22 cts net 46 0 mln vs 3 -- 000 avg shrs 14 0 mln vs 15 2 mln year shr 5 41 dlrs vs 1 56 dlrs shr diluted 4 94 dlrs vs 1 50 dlrs net 78 2 mln vs 25 9 mln avg shrs 14 5 mln vs 15 1 mln note earnings per share reflect the two for one split effective january 6 1987 per share amounts are -- after preferred stock dividends loss continuing operations for the qtr 1986 includes gains of sale of investments in -- corp of 14 mln dlrs and associated companies of 4 -- 000 less -- of investments in national -- inc of 11 8 mln and -- corp of 15 6 mln reuter 3\n"
          ],
          "name": "stdout"
        }
      ]
    },
    {
      "metadata": {
        "id": "oR0_Asdhqfx2",
        "colab_type": "code",
        "outputId": "df2fcc55-a188-4ebe-959e-65d1eebf0a78",
        "colab": {
          "base_uri": "https://localhost:8080/",
          "height": 35
        }
      },
      "cell_type": "code",
      "source": [
        "train[0].count(2)"
      ],
      "execution_count": 7,
      "outputs": [
        {
          "output_type": "execute_result",
          "data": {
            "text/plain": [
              "4"
            ]
          },
          "metadata": {
            "tags": []
          },
          "execution_count": 7
        }
      ]
    },
    {
      "metadata": {
        "id": "U31vWLpEn_3o",
        "colab_type": "code",
        "outputId": "2d177d98-f6d8-4465-fa7b-4e745dfd2a3f",
        "colab": {
          "base_uri": "https://localhost:8080/",
          "height": 52
        }
      },
      "cell_type": "code",
      "source": [
        "# Turn it into sequence/next pairs\n",
        "seq_len = 8\n",
        "\n",
        "X  = []\n",
        "y = []\n",
        "\n",
        "for line in train:\n",
        "  if line.count(2)/len(line) <= 0.1: #if there are fewer than 10% unknowns \n",
        "    i=0\n",
        "    while (i+seq_len < len(line)):\n",
        "      X.append(line[i:i+seq_len])\n",
        "      y.append(line[i+seq_len])\n",
        "      i += 1\n",
        "\n",
        "print(X[:3])\n",
        "print(y[:3])"
      ],
      "execution_count": 8,
      "outputs": [
        {
          "output_type": "stream",
          "text": [
            "[[1, 2, 2, 8, 43, 10, 447, 5], [2, 2, 8, 43, 10, 447, 5, 25], [2, 8, 43, 10, 447, 5, 25, 207]]\n",
            "[25, 207, 270]\n"
          ],
          "name": "stdout"
        }
      ]
    },
    {
      "metadata": {
        "id": "LbZS9TwFpAGa",
        "colab_type": "text"
      },
      "cell_type": "markdown",
      "source": [
        ""
      ]
    },
    {
      "metadata": {
        "id": "a_HTc-v1sNgy",
        "colab_type": "code",
        "outputId": "42aaec47-844c-4bab-ddfe-79eb767bcfa1",
        "colab": {
          "base_uri": "https://localhost:8080/",
          "height": 35
        }
      },
      "cell_type": "code",
      "source": [
        "len(X)"
      ],
      "execution_count": 9,
      "outputs": [
        {
          "output_type": "execute_result",
          "data": {
            "text/plain": [
              "454888"
            ]
          },
          "metadata": {
            "tags": []
          },
          "execution_count": 9
        }
      ]
    },
    {
      "metadata": {
        "id": "R567JZZuRNJu",
        "colab_type": "code",
        "outputId": "cbdb9ea1-b2d3-48c2-af2b-d6b9a51fa7bb",
        "colab": {
          "base_uri": "https://localhost:8080/",
          "height": 35
        }
      },
      "cell_type": "code",
      "source": [
        "# Split it into train/val/test\n",
        "train_size = 75000\n",
        "val_size = 20000\n",
        "\n",
        "X_train = np.array(X[:train_size])\n",
        "y_train = np.array(y[:train_size])\n",
        "X_val = np.array(X[train_size:(train_size+val_size)])\n",
        "y_val = np.array(y[train_size:(train_size+val_size)])\n",
        "X_test = np.array(X[train_size+val_size:])\n",
        "y_test = np.array(y[train_size+val_size:])\n",
        "\n",
        "print(X_train.shape, y_train.shape)"
      ],
      "execution_count": 12,
      "outputs": [
        {
          "output_type": "stream",
          "text": [
            "(75000, 8) (75000,)\n"
          ],
          "name": "stdout"
        }
      ]
    },
    {
      "metadata": {
        "id": "85xO4P5mVl6o",
        "colab_type": "code",
        "colab": {}
      },
      "cell_type": "code",
      "source": [
        "# response variable should be one-hot\n",
        "y_train = to_categorical(y_train, num_classes=vocab_size)\n",
        "y_val = to_categorical(y_val, num_classes=vocab_size)\n",
        "y_test = to_categorical(y_test, num_classes=vocab_size)"
      ],
      "execution_count": 0,
      "outputs": []
    },
    {
      "metadata": {
        "id": "mn9GjvO4Udx7",
        "colab_type": "text"
      },
      "cell_type": "markdown",
      "source": [
        "## Model"
      ]
    },
    {
      "metadata": {
        "id": "VaG8nq-9Zb77",
        "colab_type": "code",
        "colab": {}
      },
      "cell_type": "code",
      "source": [
        "model = models.Sequential()\n",
        "\n",
        "#         Embedding(vocab size, embedding size, input length (necessary for flatten and dense))\n",
        "model.add(Embedding(vocab_size, 64, input_length=seq_len))\n",
        "model.add(LSTM(32, return_sequences=True)) # returns a sequence of vectors of dimension 32\n",
        "model.add(Dropout(rate=0.25))\n",
        "model.add(LSTM(32, return_sequences=True)) # returns a sequence of vectors of dimension 32\n",
        "model.add(Dropout(rate=0.25))\n",
        "model.add(LSTM(32)) # return a single vector of dimension 32\n",
        "model.add(Dropout(rate=0.25))\n",
        "model.add(Dense(vocab_size, activation='softmax'))\n",
        "\n",
        "model.compile(loss='categorical_crossentropy',\n",
        "              optimizer='adam',\n",
        "              metrics=['accuracy'])"
      ],
      "execution_count": 0,
      "outputs": []
    },
    {
      "metadata": {
        "id": "rZsRmUESZg1o",
        "colab_type": "code",
        "outputId": "8708951c-fbbf-434b-ca2b-2001bf2a043c",
        "colab": {
          "base_uri": "https://localhost:8080/",
          "height": 422
        }
      },
      "cell_type": "code",
      "source": [
        "model.summary()"
      ],
      "execution_count": 0,
      "outputs": [
        {
          "output_type": "stream",
          "text": [
            "_________________________________________________________________\n",
            "Layer (type)                 Output Shape              Param #   \n",
            "=================================================================\n",
            "embedding_5 (Embedding)      (None, 8, 64)             160000    \n",
            "_________________________________________________________________\n",
            "lstm_11 (LSTM)               (None, 8, 32)             12416     \n",
            "_________________________________________________________________\n",
            "dropout_4 (Dropout)          (None, 8, 32)             0         \n",
            "_________________________________________________________________\n",
            "lstm_12 (LSTM)               (None, 8, 32)             8320      \n",
            "_________________________________________________________________\n",
            "dropout_5 (Dropout)          (None, 8, 32)             0         \n",
            "_________________________________________________________________\n",
            "lstm_13 (LSTM)               (None, 32)                8320      \n",
            "_________________________________________________________________\n",
            "dropout_6 (Dropout)          (None, 32)                0         \n",
            "_________________________________________________________________\n",
            "dense_4 (Dense)              (None, 2500)              82500     \n",
            "=================================================================\n",
            "Total params: 271,556\n",
            "Trainable params: 271,556\n",
            "Non-trainable params: 0\n",
            "_________________________________________________________________\n"
          ],
          "name": "stdout"
        }
      ]
    },
    {
      "metadata": {
        "id": "SA2i2rLcZm11",
        "colab_type": "code",
        "outputId": "7257d2d2-2ac2-4bb6-8988-3020453f4f4d",
        "colab": {
          "base_uri": "https://localhost:8080/",
          "height": 739
        }
      },
      "cell_type": "code",
      "source": [
        "history = model.fit(X_train, y_train,\n",
        "          batch_size=32, epochs=20, shuffle=False,\n",
        "          validation_data=(X_val, y_val))"
      ],
      "execution_count": 0,
      "outputs": [
        {
          "output_type": "stream",
          "text": [
            "Train on 75000 samples, validate on 20000 samples\n",
            "Epoch 1/20\n",
            "75000/75000 [==============================] - 155s 2ms/step - loss: 5.6459 - acc: 0.0511 - val_loss: 5.2391 - val_acc: 0.0790\n",
            "Epoch 2/20\n",
            "75000/75000 [==============================] - 153s 2ms/step - loss: 5.1457 - acc: 0.0953 - val_loss: 4.8345 - val_acc: 0.1320\n",
            "Epoch 3/20\n",
            "75000/75000 [==============================] - 152s 2ms/step - loss: 4.7375 - acc: 0.1502 - val_loss: 4.4600 - val_acc: 0.1824\n",
            "Epoch 4/20\n",
            "75000/75000 [==============================] - 152s 2ms/step - loss: 4.4593 - acc: 0.1830 - val_loss: 4.2196 - val_acc: 0.2251\n",
            "Epoch 5/20\n",
            "75000/75000 [==============================] - 152s 2ms/step - loss: 4.2604 - acc: 0.2109 - val_loss: 4.0524 - val_acc: 0.2441\n",
            "Epoch 6/20\n",
            "75000/75000 [==============================] - 152s 2ms/step - loss: 4.1030 - acc: 0.2345 - val_loss: 3.9121 - val_acc: 0.2710\n",
            "Epoch 7/20\n",
            "75000/75000 [==============================] - 152s 2ms/step - loss: 3.9832 - acc: 0.2527 - val_loss: 3.8202 - val_acc: 0.2845\n",
            "Epoch 8/20\n",
            "75000/75000 [==============================] - 151s 2ms/step - loss: 3.8921 - acc: 0.2632 - val_loss: 3.7510 - val_acc: 0.2915\n",
            "Epoch 9/20\n",
            "75000/75000 [==============================] - 150s 2ms/step - loss: 3.8189 - acc: 0.2717 - val_loss: 3.6939 - val_acc: 0.2979\n",
            "Epoch 10/20\n",
            "75000/75000 [==============================] - 149s 2ms/step - loss: 3.7515 - acc: 0.2801 - val_loss: 3.6451 - val_acc: 0.3066\n",
            "Epoch 11/20\n",
            "75000/75000 [==============================] - 149s 2ms/step - loss: 3.6892 - acc: 0.2874 - val_loss: 3.6019 - val_acc: 0.3134\n",
            "Epoch 12/20\n",
            "75000/75000 [==============================] - 149s 2ms/step - loss: 3.6401 - acc: 0.2933 - val_loss: 3.5706 - val_acc: 0.3203\n",
            "Epoch 13/20\n",
            "75000/75000 [==============================] - 149s 2ms/step - loss: 3.5983 - acc: 0.2981 - val_loss: 3.5394 - val_acc: 0.3246\n",
            "Epoch 14/20\n",
            "75000/75000 [==============================] - 149s 2ms/step - loss: 3.5572 - acc: 0.3023 - val_loss: 3.5125 - val_acc: 0.3296\n",
            "Epoch 15/20\n",
            "75000/75000 [==============================] - 149s 2ms/step - loss: 3.5259 - acc: 0.3067 - val_loss: 3.4875 - val_acc: 0.3339\n",
            "Epoch 16/20\n",
            "75000/75000 [==============================] - 149s 2ms/step - loss: 3.4916 - acc: 0.3112 - val_loss: 3.4728 - val_acc: 0.3381\n",
            "Epoch 17/20\n",
            "75000/75000 [==============================] - 149s 2ms/step - loss: 3.4629 - acc: 0.3141 - val_loss: 3.4456 - val_acc: 0.3416\n",
            "Epoch 18/20\n",
            "75000/75000 [==============================] - 149s 2ms/step - loss: 3.4286 - acc: 0.3188 - val_loss: 3.4350 - val_acc: 0.3439\n",
            "Epoch 19/20\n",
            "75000/75000 [==============================] - 149s 2ms/step - loss: 3.4077 - acc: 0.3209 - val_loss: 3.4189 - val_acc: 0.3465\n",
            "Epoch 20/20\n",
            "75000/75000 [==============================] - 149s 2ms/step - loss: 3.3799 - acc: 0.3230 - val_loss: 3.4083 - val_acc: 0.3496\n"
          ],
          "name": "stdout"
        }
      ]
    },
    {
      "metadata": {
        "id": "YKWK898Jwgaq",
        "colab_type": "text"
      },
      "cell_type": "markdown",
      "source": [
        "## Quantitative Results"
      ]
    },
    {
      "metadata": {
        "id": "8RN8h0TR1zJ9",
        "colab_type": "code",
        "outputId": "48a174ac-6e68-4a1d-b020-25147fcd1587",
        "colab": {
          "base_uri": "https://localhost:8080/",
          "height": 338
        }
      },
      "cell_type": "code",
      "source": [
        "print(history)\n",
        "plt.style.use('seaborn')\n",
        "fig, ax = plt.subplots(figsize=(15, 5))\n",
        "ax.plot(history.history['acc'], label='tr accuracy')\n",
        "ax.plot(history.history['val_acc'], label='val accuracy')\n",
        "plt.legend()\n",
        "plt.show()"
      ],
      "execution_count": 0,
      "outputs": [
        {
          "output_type": "stream",
          "text": [
            "<keras.callbacks.History object at 0x7fc01ad70ba8>\n"
          ],
          "name": "stdout"
        },
        {
          "output_type": "display_data",
          "data": {
            "image/png": "[encoded data removed]",
            "text/plain": [
              "<Figure size 1080x360 with 1 Axes>"
            ]
          },
          "metadata": {
            "tags": []
          }
        }
      ]
    },
    {
      "metadata": {
        "id": "kDwoWhJeZuGa",
        "colab_type": "code",
        "outputId": "b4ca322a-6aaa-4e80-c198-633fa9a4d462",
        "colab": {
          "base_uri": "https://localhost:8080/",
          "height": 52
        }
      },
      "cell_type": "code",
      "source": [
        "model.evaluate(X_test, y_test, batch_size=32)"
      ],
      "execution_count": 0,
      "outputs": [
        {
          "output_type": "stream",
          "text": [
            "12231/12231 [==============================] - 9s 717us/step\n"
          ],
          "name": "stdout"
        },
        {
          "output_type": "execute_result",
          "data": {
            "text/plain": [
              "[3.610875208392848, 0.3343144469118481]"
            ]
          },
          "metadata": {
            "tags": []
          },
          "execution_count": 123
        }
      ]
    },
    {
      "metadata": {
        "id": "wKnnd9dmweXs",
        "colab_type": "text"
      },
      "cell_type": "markdown",
      "source": [
        "## Qualitative Results"
      ]
    },
    {
      "metadata": {
        "id": "hxvmLbA2w-at",
        "colab_type": "text"
      },
      "cell_type": "markdown",
      "source": [
        ""
      ]
    },
    {
      "metadata": {
        "id": "yttWMi6ILEG-",
        "colab_type": "code",
        "colab": {}
      },
      "cell_type": "code",
      "source": [
        "seeds = ['on tuesday there was a large fire and',\n",
        "         'president of the bank was fired on the',\n",
        "         'european oil executives could face charges of up']"
      ],
      "execution_count": 0,
      "outputs": []
    },
    {
      "metadata": {
        "id": "knZPMgc0pbSB",
        "colab_type": "code",
        "colab": {}
      },
      "cell_type": "code",
      "source": [
        ""
      ],
      "execution_count": 0,
      "outputs": []
    },
    {
      "metadata": {
        "id": "uSPkybCA2LbP",
        "colab_type": "code",
        "colab": {}
      },
      "cell_type": "code",
      "source": [
        "def do_inference(seed, steps):\n",
        "  \n",
        "  prediction = []\n",
        "  \n",
        "  #print('seed: {}'.format(seed))\n",
        "  while steps > 0:\n",
        "    output = model.predict(seed)\n",
        "    p = np.argmax(output)\n",
        "    new_seed = np.append(seed[0, 1:], p).reshape(1,seq_len)\n",
        "    #print('new_seed: {}'.format(new_seed))\n",
        "    seed = new_seed\n",
        "    prediction.append(p)\n",
        "    steps -= 1\n",
        "    \n",
        "  return prediction\n",
        "  "
      ],
      "execution_count": 0,
      "outputs": []
    },
    {
      "metadata": {
        "id": "cmOk3c6Gw_Uh",
        "colab_type": "code",
        "outputId": "5956ddd8-53f9-4978-9739-80bcf5dc1f4e",
        "colab": {
          "base_uri": "https://localhost:8080/",
          "height": 175
        }
      },
      "cell_type": "code",
      "source": [
        "for s in seeds:\n",
        "  \n",
        "  vec = []\n",
        "  \n",
        "  for word in s.split():\n",
        "      i = word_index[word]+3\n",
        "      vec.append(i)\n",
        "  \n",
        "  vec = np.array(vec).reshape(1, seq_len,)\n",
        "  print (vec)\n",
        "  print(vec.shape)\n",
        "  \n",
        "  vec_pred = do_inference(vec, 10)\n",
        "  \n",
        "  print(s, end=' ')\n",
        "  print(vec_to_text(vec_pred))"
      ],
      "execution_count": 0,
      "outputs": [
        {
          "output_type": "stream",
          "text": [
            "[[  19 1210  142   32    8  543 1770    7]]\n",
            "(1, 8)\n",
            "on tuesday there was a large fire and -- 000 tonnes of -- -- -- -- reuter 3\n",
            "[[ 193    3    2   58   32 4205   19    2]]\n",
            "(1, 8)\n",
            "president of the bank was fired on the dollar the dollar dealers said the dollar dealers said the\n",
            "[[ 292   63 2270  112 1340 1138    3   82]]\n",
            "(1, 8)\n",
            "european oil executives could face charges of up to -- mln dlrs in the year of the year\n"
          ],
          "name": "stdout"
        }
      ]
    },
    {
      "metadata": {
        "id": "41EzltvEoid1",
        "colab_type": "text"
      },
      "cell_type": "markdown",
      "source": [
        "# Stateful Model"
      ]
    },
    {
      "metadata": {
        "id": "YxolVADKpC0U",
        "colab_type": "text"
      },
      "cell_type": "markdown",
      "source": [
        "## Data\n",
        "Organize training examples into batches"
      ]
    },
    {
      "metadata": {
        "id": "9pkqp8uVCg5i",
        "colab_type": "code",
        "colab": {}
      },
      "cell_type": "code",
      "source": [
        "# Turn it into sequence/next pairs\n",
        "seq_len=1\n",
        "batch_size = 32\n",
        "seq_len = 8\n",
        "max_seq_len = 128\n",
        "      \n",
        "# Ensure each sequence is a maximum of 128 words\n",
        "# If it's longer, chop it up into multiple training sequences\n",
        "\n",
        "train_short = []\n",
        "for x in train:\n",
        "  if x.count(2)/len(x) <= 0.1: # use this headline only if there are fewer than 10% unknowns \n",
        "    i = 0\n",
        "    while i < len(x):\n",
        "      short_seq = x[i:i+max_seq_len] \n",
        "      if len(short_seq) < max_seq_len:\n",
        "        short_seq = np.pad(short_seq, (0, max_seq_len - len(short_seq)), 'constant') # pad to max seq length\n",
        "      train_short.append(short_seq) \n",
        "      i += max_seq_len"
      ],
      "execution_count": 0,
      "outputs": []
    },
    {
      "metadata": {
        "id": "tyYIhrqMvPO8",
        "colab_type": "code",
        "colab": {
          "base_uri": "https://localhost:8080/",
          "height": 35
        },
        "outputId": "673d4630-5585-44d4-cafb-f26f8383ee95"
      },
      "cell_type": "code",
      "source": [
        "len(train_short)"
      ],
      "execution_count": 11,
      "outputs": [
        {
          "output_type": "execute_result",
          "data": {
            "text/plain": [
              "5913"
            ]
          },
          "metadata": {
            "tags": []
          },
          "execution_count": 11
        }
      ]
    },
    {
      "metadata": {
        "id": "zMTAbAAVvLmJ",
        "colab_type": "code",
        "colab": {
          "base_uri": "https://localhost:8080/",
          "height": 52
        },
        "outputId": "e0b1a239-a4cc-4811-8d53-8a27628ffd51"
      },
      "cell_type": "code",
      "source": [
        "X_stateful  = []\n",
        "y_stateful = []\n",
        "  \n",
        "batch_index = 0\n",
        "while ((batch_index+1) * batch_size ) <= len(train_short):\n",
        "  \n",
        "  start = batch_index * batch_size\n",
        "  end = start + batch_size\n",
        "  train_batch = train_short[start:end] # okay now you have 32 whole headlines of length 128\n",
        "  \n",
        "  for i in range(max_seq_len - seq_len):\n",
        "    for train_sample in train_batch:\n",
        "      X_stateful.append(train_sample[i : i+seq_len])\n",
        "      y_stateful.append(train_sample[i+seq_len])\n",
        "\n",
        "  batch_index += 1\n",
        "\n",
        "X_stateful = np.array(X_stateful)\n",
        "y_stateful = np.array(y_stateful)\n",
        "  \n",
        "Xshape = X_stateful.shape\n",
        "X_stateful = X_stateful.reshape(Xshape[0], Xshape[1], 1)\n",
        "y_stateful = y_stateful.reshape(y_stateful.shape[0], 1)\n",
        "print(X_stateful.shape)\n",
        "print(y_stateful.shape)"
      ],
      "execution_count": 12,
      "outputs": [
        {
          "output_type": "stream",
          "text": [
            "(706560, 8, 1)\n",
            "(706560, 1)\n"
          ],
          "name": "stdout"
        }
      ]
    },
    {
      "metadata": {
        "id": "RMDuI6xSezJp",
        "colab_type": "code",
        "colab": {
          "base_uri": "https://localhost:8080/",
          "height": 35
        },
        "outputId": "37fc371e-7eec-49a7-f8cf-12b23e46c530"
      },
      "cell_type": "code",
      "source": [
        "n_train = max_seq_len * 400\n",
        "n_val = max_seq_len * 100\n",
        "\n",
        "train_X_stateful = X_stateful[:n_train]\n",
        "train_y_stateful = y_stateful[:n_train]\n",
        "val_X_stateful = X_stateful[n_train:(n_train + n_val)]\n",
        "val_y_stateful = y_stateful[n_train:(n_train + n_val)]\n",
        "test_X_stateful = X_stateful[(n_train + n_val):(n_train + 2*n_val)]\n",
        "test_y_stateful = y_stateful[(n_train + n_val):(n_train + 2*n_val)]\n",
        "\n",
        "print(train_X_stateful.shape)"
      ],
      "execution_count": 13,
      "outputs": [
        {
          "output_type": "stream",
          "text": [
            "(51200, 8, 1)\n"
          ],
          "name": "stdout"
        }
      ]
    },
    {
      "metadata": {
        "id": "n0PuIqgaqeo5",
        "colab_type": "code",
        "colab": {}
      },
      "cell_type": "code",
      "source": [
        "# response variable should be one-hot\n",
        "train_y_stateful = to_categorical(train_y_stateful, num_classes=vocab_size)\n",
        "val_y_stateful = to_categorical(val_y_stateful, num_classes=vocab_size)\n",
        "test_y_stateful = to_categorical(test_y_stateful, num_classes=vocab_size)"
      ],
      "execution_count": 0,
      "outputs": []
    },
    {
      "metadata": {
        "id": "V_y3SxWIdy02",
        "colab_type": "text"
      },
      "cell_type": "markdown",
      "source": [
        "## Stateful Architecture"
      ]
    },
    {
      "metadata": {
        "id": "7MjRU5MW7QSy",
        "colab_type": "code",
        "colab": {
          "base_uri": "https://localhost:8080/",
          "height": 143
        },
        "outputId": "4803f627-25d4-4ce6-d887-3da092263a02"
      },
      "cell_type": "code",
      "source": [
        "model = models.Sequential()\n",
        "\n",
        "#         Embedding(vocab size, embedding size, input length (necessary for flatten and dense))\n",
        "# model.add(Embedding(vocab_size, 64, input_length=seq_len))\n",
        "model.add(LSTM(32, batch_input_shape=(batch_size, seq_len, 1), return_sequences=True)) # returns a sequence of vectors of dimension 32\n",
        "model.add(Dropout(rate=0.25))\n",
        "model.add(Flatten())\n",
        "model.add(Dense(vocab_size, activation='softmax'))\n",
        "\n",
        "model.compile(loss='categorical_crossentropy',\n",
        "              optimizer='adam',\n",
        "              metrics=['accuracy'])"
      ],
      "execution_count": 15,
      "outputs": [
        {
          "output_type": "stream",
          "text": [
            "WARNING:tensorflow:From /usr/local/lib/python3.6/dist-packages/tensorflow/python/framework/op_def_library.py:263: colocate_with (from tensorflow.python.framework.ops) is deprecated and will be removed in a future version.\n",
            "Instructions for updating:\n",
            "Colocations handled automatically by placer.\n",
            "WARNING:tensorflow:From /usr/local/lib/python3.6/dist-packages/keras/backend/tensorflow_backend.py:3445: calling dropout (from tensorflow.python.ops.nn_ops) with keep_prob is deprecated and will be removed in a future version.\n",
            "Instructions for updating:\n",
            "Please use `rate` instead of `keep_prob`. Rate should be set to `rate = 1 - keep_prob`.\n"
          ],
          "name": "stdout"
        }
      ]
    },
    {
      "metadata": {
        "id": "oKjkReBIx6ul",
        "colab_type": "code",
        "colab": {
          "base_uri": "https://localhost:8080/",
          "height": 281
        },
        "outputId": "605a289d-a1f9-4b87-ef6e-bb0eee14b426"
      },
      "cell_type": "code",
      "source": [
        "model.summary()"
      ],
      "execution_count": 16,
      "outputs": [
        {
          "output_type": "stream",
          "text": [
            "_________________________________________________________________\n",
            "Layer (type)                 Output Shape              Param #   \n",
            "=================================================================\n",
            "lstm_1 (LSTM)                (32, 8, 32)               4352      \n",
            "_________________________________________________________________\n",
            "dropout_1 (Dropout)          (32, 8, 32)               0         \n",
            "_________________________________________________________________\n",
            "flatten_1 (Flatten)          (32, 256)                 0         \n",
            "_________________________________________________________________\n",
            "dense_1 (Dense)              (32, 2500)                642500    \n",
            "=================================================================\n",
            "Total params: 646,852\n",
            "Trainable params: 646,852\n",
            "Non-trainable params: 0\n",
            "_________________________________________________________________\n"
          ],
          "name": "stdout"
        }
      ]
    },
    {
      "metadata": {
        "id": "fgAC16SKvPVX",
        "colab_type": "code",
        "colab": {
          "base_uri": "https://localhost:8080/",
          "height": 811
        },
        "outputId": "f45a0657-49b0-4ac4-99df-0051e6a4326e"
      },
      "cell_type": "code",
      "source": [
        "history = []\n",
        "\n",
        "history = model.fit(train_X_stateful, train_y_stateful,\n",
        "          batch_size=batch_size, epochs=20, shuffle=False,\n",
        "          validation_data=(val_X_stateful, val_y_stateful))"
      ],
      "execution_count": 17,
      "outputs": [
        {
          "output_type": "stream",
          "text": [
            "WARNING:tensorflow:From /usr/local/lib/python3.6/dist-packages/tensorflow/python/ops/math_ops.py:3066: to_int32 (from tensorflow.python.ops.math_ops) is deprecated and will be removed in a future version.\n",
            "Instructions for updating:\n",
            "Use tf.cast instead.\n",
            "Train on 51200 samples, validate on 12800 samples\n",
            "Epoch 1/20\n",
            "51200/51200 [==============================] - 39s 760us/step - loss: 3.9885 - acc: 0.3946 - val_loss: 3.7288 - val_acc: 0.4209\n",
            "Epoch 2/20\n",
            "51200/51200 [==============================] - 36s 709us/step - loss: 3.5754 - acc: 0.4093 - val_loss: 3.7410 - val_acc: 0.4319\n",
            "Epoch 3/20\n",
            "51200/51200 [==============================] - 36s 693us/step - loss: 3.4354 - acc: 0.4154 - val_loss: 3.7887 - val_acc: 0.4348\n",
            "Epoch 4/20\n",
            "51200/51200 [==============================] - 36s 694us/step - loss: 3.3287 - acc: 0.4185 - val_loss: 3.8688 - val_acc: 0.4377\n",
            "Epoch 5/20\n",
            "51200/51200 [==============================] - 36s 702us/step - loss: 3.2735 - acc: 0.4199 - val_loss: 3.9486 - val_acc: 0.4384\n",
            "Epoch 6/20\n",
            "51200/51200 [==============================] - 36s 703us/step - loss: 3.1977 - acc: 0.4219 - val_loss: 4.0037 - val_acc: 0.4389\n",
            "Epoch 7/20\n",
            "51200/51200 [==============================] - 36s 699us/step - loss: 3.1306 - acc: 0.4243 - val_loss: 4.0203 - val_acc: 0.4383\n",
            "Epoch 8/20\n",
            "51200/51200 [==============================] - 36s 697us/step - loss: 3.0781 - acc: 0.4249 - val_loss: 4.0452 - val_acc: 0.4368\n",
            "Epoch 9/20\n",
            "51200/51200 [==============================] - 36s 698us/step - loss: 3.0229 - acc: 0.4284 - val_loss: 4.0451 - val_acc: 0.4367\n",
            "Epoch 10/20\n",
            "51200/51200 [==============================] - 36s 699us/step - loss: 3.0015 - acc: 0.4301 - val_loss: 4.0883 - val_acc: 0.4378\n",
            "Epoch 11/20\n",
            "51200/51200 [==============================] - 36s 697us/step - loss: 2.9581 - acc: 0.4318 - val_loss: 4.0971 - val_acc: 0.4388\n",
            "Epoch 12/20\n",
            "51200/51200 [==============================] - 36s 695us/step - loss: 2.9223 - acc: 0.4346 - val_loss: 4.1086 - val_acc: 0.4402\n",
            "Epoch 13/20\n",
            "51200/51200 [==============================] - 36s 701us/step - loss: 2.8757 - acc: 0.4375 - val_loss: 4.1398 - val_acc: 0.4389\n",
            "Epoch 14/20\n",
            "51200/51200 [==============================] - 36s 695us/step - loss: 2.8338 - acc: 0.4406 - val_loss: 4.1505 - val_acc: 0.4389\n",
            "Epoch 15/20\n",
            "51200/51200 [==============================] - 35s 683us/step - loss: 2.7941 - acc: 0.4439 - val_loss: 4.1475 - val_acc: 0.4398\n",
            "Epoch 16/20\n",
            "51200/51200 [==============================] - 35s 684us/step - loss: 2.7680 - acc: 0.4469 - val_loss: 4.1721 - val_acc: 0.4384\n",
            "Epoch 17/20\n",
            "51200/51200 [==============================] - 35s 686us/step - loss: 2.7375 - acc: 0.4505 - val_loss: 4.2186 - val_acc: 0.4383\n",
            "Epoch 18/20\n",
            "51200/51200 [==============================] - 35s 693us/step - loss: 2.7117 - acc: 0.4529 - val_loss: 4.2276 - val_acc: 0.4386\n",
            "Epoch 19/20\n",
            "51200/51200 [==============================] - 35s 689us/step - loss: 2.6835 - acc: 0.4541 - val_loss: 4.2405 - val_acc: 0.4382\n",
            "Epoch 20/20\n",
            "51200/51200 [==============================] - 35s 693us/step - loss: 2.6662 - acc: 0.4573 - val_loss: 4.2550 - val_acc: 0.4378\n"
          ],
          "name": "stdout"
        }
      ]
    },
    {
      "metadata": {
        "id": "9MHA9Op_wZC5",
        "colab_type": "code",
        "colab": {
          "base_uri": "https://localhost:8080/",
          "height": 340
        },
        "outputId": "fda72c21-23b1-49ce-ea1f-909cfab10c61"
      },
      "cell_type": "code",
      "source": [
        "print(history)\n",
        "plt.style.use('seaborn')\n",
        "fig, ax = plt.subplots(figsize=(15, 5))\n",
        "ax.plot(history.history['acc'], label='tr accuracy')\n",
        "ax.plot(history.history['val_acc'], label='val accuracy')\n",
        "plt.legend()\n",
        "plt.show()"
      ],
      "execution_count": 21,
      "outputs": [
        {
          "output_type": "stream",
          "text": [
            "<keras.callbacks.History object at 0x7f13183856d8>\n"
          ],
          "name": "stdout"
        },
        {
          "output_type": "display_data",
          "data": {
            "image/png": "[encoded data removed]",
            "text/plain": [
              "<Figure size 1080x360 with 1 Axes>"
            ]
          },
          "metadata": {
            "tags": []
          }
        }
      ]
    },
    {
      "metadata": {
        "id": "pm9lAX21v_nF",
        "colab_type": "code",
        "colab": {}
      },
      "cell_type": "code",
      "source": [
        "def word_to_index(words):\n",
        "  indices = []\n",
        "  for word in words:\n",
        "    if word == 'START':\n",
        "      indices.append(1)\n",
        "    elif word == '--':\n",
        "      indices.append(2)\n",
        "    elif word == 'END':\n",
        "      indices.append(0) \n",
        "    else:\n",
        "      indices.append(word_index[word]+3)\n",
        "  return np.array(indices)"
      ],
      "execution_count": 0,
      "outputs": []
    },
    {
      "metadata": {
        "id": "1wD_W7DWyngm",
        "colab_type": "code",
        "colab": {
          "base_uri": "https://localhost:8080/",
          "height": 158
        },
        "outputId": "e169d8dc-7eb1-46ff-bcd0-ed9ecc4f36ba"
      },
      "cell_type": "code",
      "source": [
        "seeds =[['START', 'on', 'saturday', 'markets', 'reached', 'an', 'all', 'time'],\n",
        "        ['START', 'when', 'the', 'fed', 'closed', 'on', 'friday', 'evening'],\n",
        "        ['START', 'market', 'rally', 'reached', 'a', 'peak', 'number', 'after'],\n",
        "        ['START', 'senior', 'executives', 'said', 'that', 'the', 'acquisition', 'will'],\n",
        "        ['START', 'monday', 'afternoon', 'the', 'chairman', 'of', '--', 'co'],\n",
        "        ['START', 'european', 'oil', 'companies', 'face', 'serious', 'regulatory', 'challenges'],\n",
        "        ['START', 'prices', 'fell', 'below', '2', 'pct', 'after', 'earnings'], \n",
        "        ['START', 'executive', 'orders', 'went', 'out', 'but', 'the', 'chairman'],\n",
        "        ['START', 'the', 'president', 'said', 'he', 'did', 'not', 'know'],\n",
        "        ['START', 'chaos', 'resulted', 'from', 'the', 'deal', 'collapse', 'and'],\n",
        "        ['START', 'banks', 'closed', 'after', 'record', 'high', 'however', 'the'],\n",
        "        ['START', 'the', 'biggest', 'show', 'in', 'the', 'american', 'market'],\n",
        "        ['START', 'a', 'new', 'chief', 'technological', 'officer', 'stepped', 'in'],\n",
        "        ['START', 'black', 'friday', 'profits', 'were', 'lower', 'than', 'expected'],\n",
        "        ['START', 'sales', 'rose', 'on', 'the', 'following', '--', 'when'],\n",
        "        ['START', 'friday','evening', 'came', 'but', 'saturday', 'evening', 'was']]\n",
        "\n",
        "ends = [['END'] * 8]*16\n",
        "seeds = np.concatenate([seeds,  ends], axis=0)\n",
        "seeds = np.apply_along_axis(word_to_index, 1, seeds)\n",
        "seeds = seeds.reshape(32, 8, 1)\n",
        "print(seeds[0])"
      ],
      "execution_count": 73,
      "outputs": [
        {
          "output_type": "stream",
          "text": [
            "[[   1]\n",
            " [  21]\n",
            " [2371]\n",
            " [ 236]\n",
            " [ 625]\n",
            " [  42]\n",
            " [ 137]\n",
            " [ 216]]\n"
          ],
          "name": "stdout"
        }
      ]
    },
    {
      "metadata": {
        "id": "Goe16TnEybV4",
        "colab_type": "code",
        "colab": {
          "base_uri": "https://localhost:8080/",
          "height": 193
        },
        "outputId": "f66f0b1a-b4bc-4c30-dfce-5b98271f8af4"
      },
      "cell_type": "code",
      "source": [
        "def do_stateful_inference(seed, steps):\n",
        "  \n",
        "  prediction = []\n",
        "  \n",
        "  #print('seed: {}'.format(seed))\n",
        "  while steps > 0:\n",
        "    output = model.predict(seed)\n",
        "    p = np.argmax(output)\n",
        "    new_seed = np.append(seed[0, 1:], p).reshape(1,seq_len)\n",
        "    #print('new_seed: {}'.format(new_seed))\n",
        "    seed = new_seed\n",
        "    prediction.append(p)\n",
        "    steps -= 1\n",
        "    \n",
        "  return prediction\n",
        "\n",
        "# \n",
        "        \n",
        "model.reset_states()\n",
        "\n",
        "#prime the LSTM with the first input\n",
        "output = model.predict(seeds, batch_size=batch_size)\n",
        "#print(output)\n",
        "pred_next = np.apply_along_axis(np.argmax, 1, output)\n",
        "#print(seeds)\n",
        "\n",
        "preds = pred_next.T.reshape(batch_size, 1)\n",
        "prev_input = seeds\n",
        "\n",
        "#while (list(pred_next_batch).count(0) < 32):\n",
        "for i in range(10):  \n",
        "  next_input = np.concatenate([prev_input, np.array(pred_next).reshape(batch_size, 1, 1)], axis=1)\n",
        "  next_input = next_input[:, 1:, :]\n",
        "  #print(next_input)\n",
        "  \n",
        "  output = model.predict(next_input, batch_size=batch_size)\n",
        "  #print(output)\n",
        "  pred_next = np.apply_along_axis(np.argmax, 1, output)\n",
        "  \n",
        "  preds = np.concatenate([preds, pred_next.T.reshape(batch_size, 1)], axis=1)\n",
        "  \n",
        "  prev_input = next_input\n",
        "  \n",
        "  print(list(pred_next).count(0))\n",
        "  \n",
        "\n",
        "    \n",
        "# for s in seeds:\n",
        "#   vec = []\n",
        "#   for word in s.split():\n",
        "#       i = word_index[word]+1\n",
        "#       vec.append(i)\n",
        "  \n",
        "  \n",
        "#   vec = np.array(vec).reshape(1, seq_len,)\n",
        "#   print (vec)\n",
        "#   print(vec.shape)\n",
        "  \n",
        "#   vec_pred = do_inference(vec, 10)\n",
        "  \n",
        "#   print(s, end=' ')\n",
        "#   print(vec_to_text(vec_pred))"
      ],
      "execution_count": 98,
      "outputs": [
        {
          "output_type": "stream",
          "text": [
            "16\n",
            "17\n",
            "17\n",
            "17\n",
            "17\n",
            "17\n",
            "17\n",
            "17\n",
            "17\n",
            "17\n"
          ],
          "name": "stdout"
        }
      ]
    },
    {
      "metadata": {
        "id": "SMx-ozfJ5YKf",
        "colab_type": "code",
        "colab": {
          "base_uri": "https://localhost:8080/",
          "height": 862
        },
        "outputId": "071fa779-1460-40dc-d480-0ba3d0915e1e"
      },
      "cell_type": "code",
      "source": [
        "print(preds[:16])\n",
        "for i in range(16):\n",
        "  print(vec_to_text(seeds[i]))\n",
        "  print(vec_to_text(preds[i]))"
      ],
      "execution_count": 101,
      "outputs": [
        {
          "output_type": "stream",
          "text": [
            "[[   2    2 1683    2    2    2    6    4    2    2    2]\n",
            " [2288    2    2    8    2    2    5    4  258    9    4]\n",
            " [   2    2    2    2    2    2    2    4    4  253    8]\n",
            " [   2    6  601    5    2    2    2  113    2    8    4]\n",
            " [ 357    4    2    2    2    2    2    4    4  253    8]\n",
            " [   2    2    8    2    2    5    4  258    9    4    2]\n",
            " [  26   12    0    0    0    0    0    0    0    0    0]\n",
            " [   2    2    2    2    2    2  159   36    8    2    2]\n",
            " [   6    4    2    2    2    2    2    2    2    2    2]\n",
            " [   4    2  511    4    4    2    2    2    2    2    4]\n",
            " [   2    2    2    2    2    4    4  253    8    4    2]\n",
            " [   4    2    2    2    2    2    9    4  253    8    4]\n",
            " [   4    2    2    2    4    2    2 1414    8    4  493]\n",
            " [   2    2    2    2    2    8    4    2  253    8    4]\n",
            " [   2    2  195    6    4  460  490  973    2    2    8]\n",
            " [  14    2   18   14    2   18   86  180   53   11   14]]\n",
            "START on saturday markets reached an all time\n",
            "-- -- deputy -- -- -- to the -- -- --\n",
            "START when the fed closed on friday evening\n",
            "debts -- -- said -- -- of the 19 and the\n",
            "START market rally reached a peak number after\n",
            "-- -- -- -- -- -- -- the the deficit said\n",
            "START senior executives said that the acquisition will\n",
            "-- to see of -- -- -- dollar -- said the\n",
            "START monday afternoon the chairman of -- co\n",
            "coffee the -- -- -- -- -- the the deficit said\n",
            "START european oil companies face serious regulatory challenges\n",
            "-- -- said -- -- of the 19 and the --\n",
            "START prices fell below 2 pct after earnings\n",
            "cts 3 END END END END END END END END END\n",
            "START executive orders went out but the chairman\n",
            "-- -- -- -- -- -- growth he said -- --\n",
            "START the president said he did not know\n",
            "to the -- -- -- -- -- -- -- -- --\n",
            "START chaos resulted from the deal collapse and\n",
            "the -- effective the the -- -- -- -- -- the\n",
            "START banks closed after record high however the\n",
            "-- -- -- -- -- the the deficit said the --\n",
            "START the biggest show in the american market\n",
            "the -- -- -- -- -- and the deficit said the\n",
            "START a new chief technological officer stepped in\n",
            "the -- -- -- the -- -- oecd said the fourth\n",
            "START black friday profits were lower than expected\n",
            "-- -- -- -- -- said the -- deficit said the\n",
            "START sales rose on the following -- when\n",
            "-- -- president to the soviet reagan exporters -- -- said\n",
            "START friday evening came but saturday evening was\n",
            "vs -- 000 vs -- 000 revs avg shr mln vs\n"
          ],
          "name": "stdout"
        }
      ]
    },
    {
      "metadata": {
        "id": "Ky8dPmpOjIxg",
        "colab_type": "code",
        "colab": {}
      },
      "cell_type": "code",
      "source": [
        ""
      ],
      "execution_count": 0,
      "outputs": []
    }
  ]
}